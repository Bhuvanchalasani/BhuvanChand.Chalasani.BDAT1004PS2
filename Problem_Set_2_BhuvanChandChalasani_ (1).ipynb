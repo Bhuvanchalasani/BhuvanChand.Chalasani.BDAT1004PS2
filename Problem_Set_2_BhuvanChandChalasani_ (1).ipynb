{
  "cells": [
    {
      "cell_type": "markdown",
      "id": "0ef3adca",
      "metadata": {
        "id": "0ef3adca"
      },
      "source": [
        "# Question 1\n",
        "Consider the following Python module:\n",
        "a=0\n",
        "def b():\n",
        "    global a\n",
        "a = c(a)\n",
        "def c(a):\n",
        "    return a + 2\n",
        "After importing the module into the interpreter, you execute:\n",
        ">>> b()\n",
        ">>> b()\n",
        ">>> b()\n",
        ">>> a\n",
        "?\n",
        "What value is displayed when the last expression (a) is evaluated? Explain your answer by indicating what happens in every executed statement."
      ]
    },
    {
      "cell_type": "code",
      "execution_count": 28,
      "id": "834cb945",
      "metadata": {
        "colab": {
          "base_uri": "https://localhost:8080/"
        },
        "id": "834cb945",
        "outputId": "cce66ca0-b42e-4f7c-bfdb-98613fbf240f"
      },
      "outputs": [
        {
          "output_type": "stream",
          "name": "stdout",
          "text": [
            "6\n"
          ]
        }
      ],
      "source": [
        "a = 0\n",
        "\n",
        "def b():\n",
        "    global a\n",
        "    a = c(a)\n",
        "\n",
        "def c(a):\n",
        "    return a + 2\n",
        "\n",
        "b()\n",
        "b()\n",
        "b()\n",
        "print(a)"
      ]
    },
    {
      "cell_type": "markdown",
      "id": "57bf51f7",
      "metadata": {
        "id": "57bf51f7"
      },
      "source": [
        "### Code Explanation\n",
        "Line 1: Variable \"a\" is initialised with value 0.\n",
        "Line 2: Function b() is defined\n",
        "Line 3: declares variable \"a\" as global variable (i.e) a refers to the same variable declared outside function.\n",
        "Line 4: Inside function b(), function c() is invoked by passing the global variable a.\n",
        "Line 5: Function c() is defined which accepts one parameter \"a\"\n",
        "Line 6: The c() function returns the value of a plus 2.\n",
        "\n",
        "### Execution Explanation\n",
        "1. b(): When b() is called for the first time, it invokes c(a) with the initial value of a, which is 0.\n",
        "   The c() function returns 0 + 2, which is 2.\n",
        "   This value is then assigned to the global variable a.\n",
        "2. b(): The second call to b() again invokes c(a), but this time a has the value of 2 (from the previous call).\n",
        "   Thus, c() returns 2 + 2, which is 4.\n",
        "   This value is assigned to the global variable a.\n",
        "3. b(): Similarly, the third call to b() invokes c(a) with the current value of a, which is 4.\n",
        "   The c() function returns 4 + 2, which is 6.\n",
        "   This value is assigned to the global variable a again.\n",
        "4. a: Finally, when a is evaluated, it contains the value 6, which is displayed as the result."
      ]
    },
    {
      "cell_type": "markdown",
      "id": "d2f16c0b",
      "metadata": {
        "id": "d2f16c0b"
      },
      "source": [
        "# Question 2\n",
        "since there is no file midterm.py\n",
        "Let's use the filename Filelength.txt instead of midterm.py in the examples."
      ]
    },
    {
      "cell_type": "code",
      "execution_count": 49,
      "id": "5832df35",
      "metadata": {
        "colab": {
          "base_uri": "https://localhost:8080/",
          "height": 53
        },
        "id": "5832df35",
        "outputId": "ac38c118-168d-4fdb-cf64-e82c45a5f93d"
      },
      "outputs": [
        {
          "output_type": "stream",
          "name": "stdout",
          "text": [
            "123\n"
          ]
        },
        {
          "output_type": "execute_result",
          "data": {
            "text/plain": [
              "'File idterm.py not found.'"
            ],
            "application/vnd.google.colaboratory.intrinsic+json": {
              "type": "string"
            }
          },
          "metadata": {},
          "execution_count": 49
        }
      ],
      "source": [
        "def fileLength(file_name):\n",
        "    try:\n",
        "        with open(file_name, 'r') as file:\n",
        "            content = file.read()\n",
        "            file_length = len(content)\n",
        "        return file_length\n",
        "    except FileNotFoundError:\n",
        "        return f\"File {file_name} not found.\"\n",
        "\n",
        "# Example usage\n",
        "print(fileLength(\"/content/Filelength.txt\"))  # Adjust the path as needed for your environment\n",
        "fileLength(\"idterm.py\")  # Should print \"File idterm.py not found.\"\n"
      ]
    },
    {
      "cell_type": "markdown",
      "id": "0ecc800b",
      "metadata": {
        "id": "0ecc800b"
      },
      "source": [
        "# Question 3\n",
        "fileLength\n",
        "Write a class named Marsupial that can be used as shown below:\n",
        ">>> m = Marsupial()\n",
        ">>> m.put_in_pouch('doll')\n",
        ">>> m.put_in_pouch('firetruck')\n",
        ">>> m.put_in_pouch('kitten')\n",
        ">>> m.pouch_contents()\n",
        "['doll', 'firetruck', 'kitten']\n",
        "Now w a.\n",
        "b. c.\n",
        "Kangaroo as a subclass of Marsupial that inherits all the\n",
        "Marsupial\n",
        "extends the Marsupial __init__ constructor to take, as input, the coordinates x and y of the Kangaroo object,\n",
        "supports method jump that takes number values dx and dy as input and moves the kangaroo by dx units along the x-axis and by dy units along the y- axis, and\n",
        "overloads the __str__ operator so it behaves as shown below.\n",
        "rite a class named\n",
        "attributes of\n",
        "and also:\n",
        ">>> k = Kangaroo(0,0)\n",
        ">>> print(k)\n",
        "I am a Kangaroo located at coordinates (0,0)\n",
        ">>> k.put_in_pouch('doll')\n",
        ">>> k.put_in_pouch('firetruck')\n",
        ">>> k.put_in_pouch('kitten')\n",
        ">>> k.pouch_contents()\n",
        "['doll', 'firetruck', 'kitten']\n",
        ">>> k.jump(1,0)\n",
        ">>> k.jump(1,0)\n",
        ">>> k.jump(1,0)\n",
        ">>> print(k)\n",
        "I am a Kangaroo located at coordinates (3,0)"
      ]
    },
    {
      "cell_type": "code",
      "execution_count": 3,
      "id": "aebc210b",
      "metadata": {
        "colab": {
          "base_uri": "https://localhost:8080/"
        },
        "id": "aebc210b",
        "outputId": "aaf433b4-a758-4340-ec34-4dcd6923ae7c"
      },
      "outputs": [
        {
          "output_type": "stream",
          "name": "stdout",
          "text": [
            "['doll', 'firetruck', 'kitten']\n",
            "I am a Kangaroo located at coordinates (0, 0)\n",
            "['doll', 'firetruck', 'kitten']\n",
            "I am a Kangaroo located at coordinates (3, 0)\n"
          ]
        }
      ],
      "source": [
        "class Marsupial:\n",
        "    def __init__(self):\n",
        "        self.pouch = []\n",
        "\n",
        "    def put_in_pouch(self, item):\n",
        "        self.pouch.append(item)\n",
        "\n",
        "    def pouch_contents(self):\n",
        "        return self.pouch\n",
        "\n",
        "\n",
        "class Kangaroo(Marsupial):\n",
        "    def __init__(self, x, y):\n",
        "        super().__init__()\n",
        "        self.x = x\n",
        "        self.y = y\n",
        "\n",
        "    def jump(self, dx, dy):\n",
        "        self.x += dx\n",
        "        self.y += dy\n",
        "\n",
        "    def __str__(self):\n",
        "        return \"I am a Kangaroo located at coordinates ({}, {})\".format(self.x, self.y)\n",
        "\n",
        "\n",
        "m = Marsupial()\n",
        "m.put_in_pouch('doll')\n",
        "m.put_in_pouch('firetruck')\n",
        "m.put_in_pouch('kitten')\n",
        "print(m.pouch_contents())  # Output: ['doll', 'firetruck', 'kitten']\n",
        "\n",
        "k = Kangaroo(0, 0)\n",
        "print(k)  # Output: I am a Kangaroo located at coordinates (0, 0)\n",
        "k.put_in_pouch('doll')\n",
        "k.put_in_pouch('firetruck')\n",
        "k.put_in_pouch('kitten')\n",
        "print(k.pouch_contents())  # Output: ['doll', 'firetruck', 'kitten']\n",
        "k.jump(1, 0)\n",
        "k.jump(1, 0)\n",
        "k.jump(1, 0)\n",
        "print(k)  # Output: I am a Kangaroo located at coordinates (3, 0)"
      ]
    },
    {
      "cell_type": "markdown",
      "id": "e6b6a003",
      "metadata": {
        "id": "e6b6a003"
      },
      "source": [
        "# Question 4\n",
        "Write function collatz() that takes a positive integer x as input and prints the Collatz sequence starting at x. A Collatz sequence is obtained by repeatedly applying this rule to the previous number x in the sequence:\n",
        "x={ 𝑥/2 𝑖𝑓𝑥𝑖𝑠𝑒𝑣𝑒𝑛 3𝑥 + 1 𝑖𝑓 𝑥 𝑖𝑠 𝑜𝑑𝑑\n",
        "Your function should stop when the sequence gets to number 1. Your implementation must be recursive, without any loops.\n",
        ">>> collatz(1)\n",
        "1\n",
        ">>> collatz(10)\n",
        "10\n",
        "5 16 8 4 2 1"
      ]
    },
    {
      "cell_type": "code",
      "execution_count": 52,
      "id": "d94e97dc",
      "metadata": {
        "colab": {
          "base_uri": "https://localhost:8080/"
        },
        "id": "d94e97dc",
        "outputId": "db7ef769-ef9a-469c-9ad4-e8636cdf5f37"
      },
      "outputs": [
        {
          "output_type": "stream",
          "name": "stdout",
          "text": [
            "1\n",
            "---------\n",
            "10\n",
            "5\n",
            "16\n",
            "8\n",
            "4\n",
            "2\n",
            "1\n"
          ]
        }
      ],
      "source": [
        "def collatz(number):\n",
        "    while number != 1:\n",
        "        print(number)\n",
        "        if number % 2 == 0:\n",
        "            number = number // 2\n",
        "        else:\n",
        "            number = 3 * number + 1\n",
        "    print(number)\n",
        "\n",
        "collatz(1)\n",
        "print(\"---------\")\n",
        "collatz(10)"
      ]
    },
    {
      "cell_type": "markdown",
      "id": "052c9b42",
      "metadata": {
        "id": "052c9b42"
      },
      "source": [
        "# Question 5\n",
        "Write a recursive method binary() that takes a non-negative integer n and prints the binary representation of integer n.\n",
        ">>> binary(0)\n",
        "0\n",
        ">>> binary(1)\n",
        "1\n",
        ">>> binary(3)\n",
        "11\n",
        ">>> binary(9)\n",
        "1001"
      ]
    },
    {
      "cell_type": "code",
      "execution_count": 53,
      "id": "65f52ed3",
      "metadata": {
        "colab": {
          "base_uri": "https://localhost:8080/"
        },
        "id": "65f52ed3",
        "outputId": "1981eb20-9729-4f24-d2a2-94aa868674cb"
      },
      "outputs": [
        {
          "output_type": "stream",
          "name": "stdout",
          "text": [
            "0\n",
            "\n",
            "1\n",
            "\n",
            "11\n",
            "\n",
            "1001"
          ]
        }
      ],
      "source": [
        "def binary(num):\n",
        "    if num == 0:\n",
        "        print(0, end='')\n",
        "    elif num == 1:\n",
        "        print(1, end='')\n",
        "    else:\n",
        "        binary(num // 2)\n",
        "        print(num % 2, end='')\n",
        "\n",
        "binary(0)\n",
        "print('\\n')\n",
        "binary(1)\n",
        "print('\\n')\n",
        "binary(3)\n",
        "print('\\n')\n",
        "binary(9)"
      ]
    },
    {
      "cell_type": "markdown",
      "id": "fcdf4efd",
      "metadata": {
        "id": "fcdf4efd"
      },
      "source": [
        "# Question 6\n",
        "Implement a class named HeadingParser that can be used to parse an HTML document, and retrieve and print all the headings in the document. You should implement your class as a subclass of HTMLParser, defined in Standard Library module html.parser. When fed a string containing HTML code, your class should print the headings, one per line and in the order in which they appear in the document. Each heading should be indented as follows: an h1 heading should have indentation 0, and h2 heading should have indentation 1, etc. Test your implementation using w3c.html.\n",
        ">>> infile = open('w3c.html')\n",
        ">>> content = infile.read()\n",
        ">>> infile.close()\n",
        ">>> hp = HeadingParser()\n",
        ">>> hp.feed(content)\n",
        "W3C Mission\n",
        "Principles"
      ]
    },
    {
      "cell_type": "code",
      "execution_count": 6,
      "id": "925397c3",
      "metadata": {
        "colab": {
          "base_uri": "https://localhost:8080/"
        },
        "id": "925397c3",
        "outputId": "e6eccc91-eec4-47dd-e76b-1a5398ecb6a4"
      },
      "outputs": [
        {
          "output_type": "stream",
          "name": "stdout",
          "text": [
            "W3C Mission\n",
            " Principles\n",
            " \n",
            " "
          ]
        }
      ],
      "source": [
        "from html.parser import HTMLParser\n",
        "import re\n",
        "\n",
        "class HeadingParser(HTMLParser):\n",
        "    def __init__(self):\n",
        "        super().__init__()\n",
        "        self.indentation = 0\n",
        "        self.headings = []\n",
        "        self.exclude_title = False\n",
        "\n",
        "    def handle_starttag(self, tag, attrs):\n",
        "        if tag.lower().startswith('h'):\n",
        "            match = re.match(r'h(\\d+)', tag, re.IGNORECASE)\n",
        "            if match:\n",
        "                self.indentation = int(match.group(1)) - 1\n",
        "        elif tag.lower() == 'title':\n",
        "            self.exclude_title = True\n",
        "\n",
        "    def handle_endtag(self, tag):\n",
        "        if tag.lower() == 'title':\n",
        "            self.exclude_title = False\n",
        "\n",
        "    def handle_data(self, data):\n",
        "        if self.indentation >= 0 and not self.exclude_title:\n",
        "            heading = ' ' * self.indentation + data.strip()\n",
        "            if heading:\n",
        "                self.headings.append(heading)\n",
        "\n",
        "    def print_headings(self):\n",
        "        for i, heading in enumerate(self.headings):\n",
        "            print(heading, end='')\n",
        "            if i != len(self.headings) - 1:\n",
        "                print()\n",
        "\n",
        "infile = open('w3c.html')\n",
        "content = infile.read()\n",
        "infile.close()\n",
        "hp = HeadingParser()\n",
        "hp.feed(content)\n",
        "hp.print_headings()"
      ]
    },
    {
      "cell_type": "markdown",
      "id": "d4efa5f0",
      "metadata": {
        "id": "d4efa5f0"
      },
      "source": [
        "# Question 7\n",
        "Implement recursive function\n",
        "that takes as input: a URL (as a string) and\n",
        "non-negative integers\n",
        ". Your function should visit every web\n",
        "page reachable from the starting URL web page in\n",
        "depth\n",
        "clicks or less, and print\n",
        "each web page's URL. As shown below, indentation, specified by indent, should\n",
        "be used to indicate the depth of a URL.\n",
        "webdir() depth and indent\n",
        ">>>\n",
        "webdir('http://reed.cs.depaul.edu/lperkovic/csc242/test1.html'\n",
        ", 2, 0)\n",
        "http://reed.cs.depaul.edu/lperkovic/csc242/test1.html\n",
        "    http://reed.cs.depaul.edu/lperkovic/csc242/test2.html\n",
        "        http://reed.cs.depaul.edu/lperkovic/csc242/test4.html\n",
        "    http://reed.cs.depaul.edu/lperkovic/csc242/test3.html\n",
        "        http://reed.cs.depaul.edu/lperkovic/csc242/test4.html"
      ]
    },
    {
      "cell_type": "code",
      "execution_count": 54,
      "id": "59fed2a8",
      "metadata": {
        "colab": {
          "base_uri": "https://localhost:8080/"
        },
        "id": "59fed2a8",
        "outputId": "2eeeb2e6-85b3-4340-9cb6-6ea5e316cca6"
      },
      "outputs": [
        {
          "output_type": "stream",
          "name": "stdout",
          "text": [
            "https://www.gmail.com\n",
            "https://www.gmail.com/signin/usernamerecovery?continue=https://mail.google.com/mail/u/0/&dsh=S-637438433:1720132726353170&emr=1&flowEntry=ServiceLogin&flowName=WebLiteSignIn&followup=https://mail.google.com/mail/u/0/&ifkv=AS5LTAT1uZUFsrDA0I8wYqiamSTQHFKRpPE_6RL4-H75fj9BImEAtyYQBPRk0WupdakkogRP_d6CxA&osid=1&service=mail\n",
            "https://support.google.com/accounts?p=signin_privatebrowsing&hl=en-US\n",
            "https://www.gmail.com/lifecycle/flows/signup?continue=https://mail.google.com/mail/u/0/&dsh=S-637438433:1720132726353170&emr=1&flowEntry=SignUp&flowName=GlifWebSignIn&followup=https://mail.google.com/mail/u/0/&ifkv=AS5LTAT1uZUFsrDA0I8wYqiamSTQHFKRpPE_6RL4-H75fj9BImEAtyYQBPRk0WupdakkogRP_d6CxA&osid=1&service=mail\n",
            "https://support.google.com/accounts?hl=en-US&p=account_iph\n",
            "https://accounts.google.com/TOS?loc=NL&hl=en-US&privacy=true\n",
            "https://accounts.google.com/TOS?loc=NL&hl=en-US\n"
          ]
        }
      ],
      "source": [
        "from urllib import request\n",
        "from urllib.parse import urlparse, urljoin\n",
        "from html.parser import HTMLParser\n",
        "\n",
        "class WebDirHTMLParser(HTMLParser):\n",
        "    def __init__(self, base_url, depth, indent):\n",
        "        super().__init__()\n",
        "        self.base_url = base_url\n",
        "        self.depth = depth\n",
        "        self.indent = indent\n",
        "        self.current_depth = 0\n",
        "        self.visited_urls = set()\n",
        "\n",
        "    def handle_starttag(self, tag, attrs):\n",
        "        if self.current_depth <= self.depth and tag == 'a':\n",
        "            for attr in attrs:\n",
        "                if attr[0] == 'href':\n",
        "                    url = urljoin(self.base_url, attr[1])\n",
        "                    if url not in self.visited_urls:\n",
        "                        self.visited_urls.add(url)\n",
        "                        print(' ' * self.indent * self.current_depth + url)\n",
        "                        if self.current_depth < self.depth:\n",
        "                            self.current_depth += 1\n",
        "                            self.parse_url(url)\n",
        "\n",
        "    def parse_url(self, url):\n",
        "        try:\n",
        "            response = request.urlopen(url)\n",
        "            html_content = response.read().decode('utf-8')\n",
        "            parser = WebDirHTMLParser(url, self.depth, self.indent)\n",
        "            parser.feed(html_content)\n",
        "        except:\n",
        "            pass\n",
        "\n",
        "def webdir(url, depth, indent):\n",
        "    parsed_url = urlparse(url)\n",
        "    base_url = parsed_url.scheme + '://' + parsed_url.netloc\n",
        "    print(url)\n",
        "    parser = WebDirHTMLParser(base_url, depth, indent)\n",
        "    parser.parse_url(url)\n",
        "\n",
        "# Test the webdir function\n",
        "webdir('https://www.gmail.com', 1, 0)"
      ]
    },
    {
      "cell_type": "code",
      "source": [
        "webdir('https://reed.cs.depaul.edu/lperkovic/csc242/test1.html', 2, 0)"
      ],
      "metadata": {
        "colab": {
          "base_uri": "https://localhost:8080/"
        },
        "id": "kwYswEQQ56An",
        "outputId": "83cf7ff1-e6a7-4870-eb2a-12ed078abf94"
      },
      "id": "kwYswEQQ56An",
      "execution_count": 55,
      "outputs": [
        {
          "output_type": "stream",
          "name": "stdout",
          "text": [
            "https://reed.cs.depaul.edu/lperkovic/csc242/test1.html\n"
          ]
        }
      ]
    },
    {
      "cell_type": "markdown",
      "id": "aa0a0de9",
      "metadata": {
        "id": "aa0a0de9"
      },
      "source": [
        "# Question 8\n",
        "Write SQL queries on the below database table that return:\n",
        "a) All the temperature data.\n",
        "b) All the cities, but without repetition.\n",
        "c) All the records for India.\n",
        "d) All the Fall records.\n",
        "e) The city, country, and season for which the average rainfall is between 200 and 400 millimeters.\n",
        "f) The city and country for which the average Fall temperature is above 20 degrees, in increasing temperature order.\n",
        "g) The total annual rainfall for Cairo.\n",
        "h) The total rainfall for each season."
      ]
    },
    {
      "cell_type": "markdown",
      "source": [],
      "metadata": {
        "id": "9o2ObNp66Gpn"
      },
      "id": "9o2ObNp66Gpn"
    },
    {
      "cell_type": "markdown",
      "source": [
        "**a) All the temperature data**\n"
      ],
      "metadata": {
        "id": "HiF8v0446GtK"
      },
      "id": "HiF8v0446GtK"
    },
    {
      "cell_type": "code",
      "execution_count": 11,
      "id": "637bf709",
      "metadata": {
        "colab": {
          "base_uri": "https://localhost:8080/"
        },
        "id": "637bf709",
        "outputId": "e6cfd0c4-989b-45f0-e9c4-9470fd844469"
      },
      "outputs": [
        {
          "output_type": "stream",
          "name": "stdout",
          "text": [
            "All temperature data:\n",
            "24.8\n",
            "28.4\n",
            "27.9\n",
            "27.6\n",
            "4.2\n",
            "8.3\n",
            "15.7\n",
            "10.4\n",
            "13.6\n",
            "20.7\n",
            "27.7\n",
            "22.2\n"
          ]
        }
      ],
      "source": [
        "import sqlite3\n",
        "\n",
        "# Connect to the SQLite database (create a new database if it doesn't exist)\n",
        "conn = sqlite3.connect('weather_data.db')\n",
        "cursor = conn.cursor()\n",
        "# Check if the table exists\n",
        "cursor.execute(f\"SELECT name FROM sqlite_master WHERE type='table' AND name='weather'\")\n",
        "result = cursor.fetchone()\n",
        "if result:\n",
        "    # Table exists, so delete it\n",
        "    cursor.execute(f\"DROP TABLE weather\")\n",
        "# Create the table\n",
        "cursor.execute('''CREATE TABLE weather (\n",
        "                    City TEXT,\n",
        "                    Country TEXT,\n",
        "                    Season TEXT,\n",
        "                    Temperature REAL,\n",
        "                    Rainfall REAL\n",
        "                )''')\n",
        "\n",
        "# Insert the data into the table\n",
        "data = [('Mumbai', 'India', 'Winter', 24.8, 5.9),\n",
        "        ('Mumbai', 'India', 'Spring', 28.4, 16.2),\n",
        "        ('Mumbai', 'India', 'Summer', 27.9, 1549.4),\n",
        "        ('Mumbai', 'India', 'Fall', 27.6, 346.0),\n",
        "        ('London', 'United Kingdom', 'Winter', 4.2, 207.7),\n",
        "        ('London', 'United Kingdom', 'Spring', 8.3, 169.6),\n",
        "        ('London', 'United Kingdom', 'Summer', 15.7, 157.0),\n",
        "        ('London', 'United Kingdom', 'Fall', 10.4, 218.5),\n",
        "        ('Cairo', 'Egypt', 'Winter', 13.6, 16.5),\n",
        "        ('Cairo', 'Egypt', 'Spring', 20.7, 6.5),\n",
        "        ('Cairo', 'Egypt', 'Summer', 27.7, 0.1),\n",
        "        ('Cairo', 'Egypt', 'Fall', 22.2, 4.5)]\n",
        "\n",
        "cursor.executemany('INSERT INTO weather VALUES (?, ?, ?, ?, ?)', data)\n",
        "\n",
        "# Commit the changes and close the connection\n",
        "conn.commit()\n",
        "\n",
        "cursor.execute(\"SELECT Temperature FROM weather\")\n",
        "temperature_data = cursor.fetchall()\n",
        "print(\"All temperature data:\")\n",
        "for row in temperature_data:\n",
        "    print(row[0])"
      ]
    },
    {
      "cell_type": "markdown",
      "source": [
        "**b) All the cities, but without repetition**"
      ],
      "metadata": {
        "id": "Fiuj89I66fSQ"
      },
      "id": "Fiuj89I66fSQ"
    },
    {
      "cell_type": "code",
      "execution_count": 12,
      "id": "86fd40ea",
      "metadata": {
        "colab": {
          "base_uri": "https://localhost:8080/"
        },
        "id": "86fd40ea",
        "outputId": "9656ee12-4b4a-4ff7-884a-226ccd7de75e"
      },
      "outputs": [
        {
          "output_type": "stream",
          "name": "stdout",
          "text": [
            "All cities:\n",
            "Mumbai\n",
            "London\n",
            "Cairo\n"
          ]
        }
      ],
      "source": [
        "cursor.execute(\"SELECT DISTINCT City FROM weather\")\n",
        "cities = cursor.fetchall()\n",
        "print(\"All cities:\")\n",
        "for row in cities:\n",
        "    print(row[0])"
      ]
    },
    {
      "cell_type": "markdown",
      "source": [
        "**c) All the records for India**"
      ],
      "metadata": {
        "id": "jJyrPkH86mbR"
      },
      "id": "jJyrPkH86mbR"
    },
    {
      "cell_type": "code",
      "execution_count": 13,
      "id": "c391b468",
      "metadata": {
        "colab": {
          "base_uri": "https://localhost:8080/"
        },
        "id": "c391b468",
        "outputId": "6fbbb812-cdcb-41f6-8955-c98334219f72"
      },
      "outputs": [
        {
          "output_type": "stream",
          "name": "stdout",
          "text": [
            "Records for India:\n",
            "('Mumbai', 'India', 'Winter', 24.8, 5.9)\n",
            "('Mumbai', 'India', 'Spring', 28.4, 16.2)\n",
            "('Mumbai', 'India', 'Summer', 27.9, 1549.4)\n",
            "('Mumbai', 'India', 'Fall', 27.6, 346.0)\n"
          ]
        }
      ],
      "source": [
        "cursor.execute(\"SELECT * FROM weather WHERE Country = 'India'\")\n",
        "india_records = cursor.fetchall()\n",
        "print(\"Records for India:\")\n",
        "for row in india_records:\n",
        "    print(row)"
      ]
    },
    {
      "cell_type": "markdown",
      "source": [
        "**d) All the Fall records**"
      ],
      "metadata": {
        "id": "P2IsUs1a667e"
      },
      "id": "P2IsUs1a667e"
    },
    {
      "cell_type": "code",
      "execution_count": 14,
      "id": "0a469155",
      "metadata": {
        "colab": {
          "base_uri": "https://localhost:8080/"
        },
        "id": "0a469155",
        "outputId": "2b80cb00-d8aa-45e5-b77a-b8aafaf83a5a"
      },
      "outputs": [
        {
          "output_type": "stream",
          "name": "stdout",
          "text": [
            "Fall records:\n",
            "('Mumbai', 'India', 'Fall', 27.6, 346.0)\n",
            "('London', 'United Kingdom', 'Fall', 10.4, 218.5)\n",
            "('Cairo', 'Egypt', 'Fall', 22.2, 4.5)\n"
          ]
        }
      ],
      "source": [
        "cursor.execute(\"SELECT * FROM weather WHERE Season = 'Fall'\")\n",
        "fall_records = cursor.fetchall()\n",
        "print(\"Fall records:\")\n",
        "for row in fall_records:\n",
        "    print(row)"
      ]
    },
    {
      "cell_type": "markdown",
      "source": [
        "**e) The city, country, and season for which the average rainfall is between 200\n",
        "and 400 millimeters.**"
      ],
      "metadata": {
        "id": "hgaoxWPT7bkT"
      },
      "id": "hgaoxWPT7bkT"
    },
    {
      "cell_type": "code",
      "execution_count": 15,
      "id": "6cc97dd6",
      "metadata": {
        "colab": {
          "base_uri": "https://localhost:8080/"
        },
        "id": "6cc97dd6",
        "outputId": "5a4e9838-8243-4ad0-b623-6a4f2cb19551"
      },
      "outputs": [
        {
          "output_type": "stream",
          "name": "stdout",
          "text": [
            "City, Country, and Season with average rainfall between 200 and 400 millimeters:\n",
            "('Mumbai', 'India', 'Fall')\n",
            "('London', 'United Kingdom', 'Winter')\n",
            "('London', 'United Kingdom', 'Fall')\n"
          ]
        }
      ],
      "source": [
        "cursor.execute(\"SELECT City, Country, Season FROM weather WHERE Rainfall BETWEEN 200 AND 400\")\n",
        "rainfall_data = cursor.fetchall()\n",
        "print(\"City, Country, and Season with average rainfall between 200 and 400 millimeters:\")\n",
        "for row in rainfall_data:\n",
        "    print(row)"
      ]
    },
    {
      "cell_type": "markdown",
      "source": [
        "**f\n",
        ") The city and country for which the average Fall temperature is above 20\n",
        "degrees, in increasing temperature order**\n"
      ],
      "metadata": {
        "id": "Hbw5ULy97yhw"
      },
      "id": "Hbw5ULy97yhw"
    },
    {
      "cell_type": "code",
      "execution_count": 16,
      "id": "be8d2f8f",
      "metadata": {
        "colab": {
          "base_uri": "https://localhost:8080/"
        },
        "id": "be8d2f8f",
        "outputId": "0da50bd4-156b-47a3-b8a7-12d8b109af8e"
      },
      "outputs": [
        {
          "output_type": "stream",
          "name": "stdout",
          "text": [
            "City and Country with average Fall temperature above 20 degrees (in increasing temperature order):\n",
            "('Cairo', 'Egypt')\n",
            "('Mumbai', 'India')\n"
          ]
        }
      ],
      "source": [
        "cursor.execute(\"SELECT City, Country FROM weather WHERE Season = 'Fall' AND Temperature > 20 ORDER BY Temperature ASC\")\n",
        "fall_temperature_data = cursor.fetchall()\n",
        "print(\"City and Country with average Fall temperature above 20 degrees (in increasing temperature order):\")\n",
        "for row in fall_temperature_data:\n",
        "    print(row)"
      ]
    },
    {
      "cell_type": "markdown",
      "source": [
        "**g) The total annual rainfall for Cairo**"
      ],
      "metadata": {
        "id": "Dqmzbz0Q8c3y"
      },
      "id": "Dqmzbz0Q8c3y"
    },
    {
      "cell_type": "code",
      "execution_count": 17,
      "id": "dd46a259",
      "metadata": {
        "colab": {
          "base_uri": "https://localhost:8080/"
        },
        "id": "dd46a259",
        "outputId": "9e653398-c256-4ba3-e779-ae1a7b144d9e"
      },
      "outputs": [
        {
          "output_type": "stream",
          "name": "stdout",
          "text": [
            "Total annual rainfall for Cairo: 27.6\n"
          ]
        }
      ],
      "source": [
        "cursor.execute(\"SELECT SUM(Rainfall) FROM weather WHERE City = 'Cairo'\")\n",
        "cairo_total_rainfall = cursor.fetchone()[0]\n",
        "print(\"Total annual rainfall for Cairo:\", cairo_total_rainfall)"
      ]
    },
    {
      "cell_type": "markdown",
      "source": [
        "**h) The total rainfall for each season**"
      ],
      "metadata": {
        "id": "rW-hst6A8htY"
      },
      "id": "rW-hst6A8htY"
    },
    {
      "cell_type": "code",
      "execution_count": 18,
      "id": "3120eca9",
      "metadata": {
        "colab": {
          "base_uri": "https://localhost:8080/"
        },
        "id": "3120eca9",
        "outputId": "c7937657-9584-4246-f4a8-6d0253418975"
      },
      "outputs": [
        {
          "output_type": "stream",
          "name": "stdout",
          "text": [
            "Total rainfall for each season:\n",
            "('Fall', 569.0)\n",
            "('Spring', 192.29999999999998)\n",
            "('Summer', 1706.5)\n",
            "('Winter', 230.1)\n"
          ]
        }
      ],
      "source": [
        "cursor.execute(\"SELECT Season, SUM(Rainfall) FROM weather GROUP BY Season\")\n",
        "seasonal_rainfall_data = cursor.fetchall()\n",
        "print(\"Total rainfall for each season:\")\n",
        "for row in seasonal_rainfall_data:\n",
        "    print(row)"
      ]
    },
    {
      "cell_type": "markdown",
      "id": "b8a899f5",
      "metadata": {
        "id": "b8a899f5"
      },
      "source": [
        "# Question 9\n",
        ". Suppose list words is defined as follows:\n",
        ">>> words = ['The', 'quick', 'brown', 'fox', 'jumps', 'over', 'the', 'lazy', 'dog']\n",
        "Write list comprehension expressions that use list words and generate the following lists:\n",
        "a) ['THE', 'QUICK', 'BROWN', 'FOX', 'JUMPS', 'OVER', 'THE', 'LAZY', 'DOG']\n",
        "b) ['the', 'quick', 'brown', 'fox', 'jumps', 'over', 'the', 'lazy', 'dog']\n",
        "c)[3, 5, 5, 3, 5, 4, 3, 4, 3](the list of lengths of words in list words).\n",
        "d) [['THE', 'the', 3], ['QUICK', 'quick', 5], ['BROWN', 'brown', 5], ['FOX', 'fox', 3], ['JUMPS', 'jumps', 5], ['OVER', 'over', 4], ['THE', 'the', 3], ['LAZY', 'lazy', 4], ['DOG', 'dog', 3]] (the list containing a list for every word of list words, where each list contains the word in uppercase and lowercase and the length of the word.)\n",
        "e) ['The', 'quick', 'brown', 'fox', 'jumps', 'over', 'the', 'lazy', 'dog'] (the list of words in list words containing 4 or more characters.)\n",
        "BDAT 1004"
      ]
    },
    {
      "cell_type": "markdown",
      "source": [
        "a)"
      ],
      "metadata": {
        "id": "bh1TlWV788-K"
      },
      "id": "bh1TlWV788-K"
    },
    {
      "cell_type": "code",
      "execution_count": 19,
      "id": "9d514844",
      "metadata": {
        "colab": {
          "base_uri": "https://localhost:8080/"
        },
        "id": "9d514844",
        "outputId": "3590132c-80e8-4f5a-bd82-2c9646a0ba2d"
      },
      "outputs": [
        {
          "output_type": "stream",
          "name": "stdout",
          "text": [
            "['THE', 'QUICK', 'BROWN', 'FOX', 'JUMPS', 'OVER', 'THE', 'LAZY', 'DOG']\n"
          ]
        }
      ],
      "source": [
        "words = ['The', 'quick', 'brown', 'fox', 'jumps', 'over','the', 'lazy', 'dog']\n",
        "a = [word.upper() for word in words]\n",
        "print(a)"
      ]
    },
    {
      "cell_type": "markdown",
      "source": [
        "b)"
      ],
      "metadata": {
        "id": "DYjsyrmw9Vs1"
      },
      "id": "DYjsyrmw9Vs1"
    },
    {
      "cell_type": "code",
      "execution_count": 20,
      "id": "97b2c04c",
      "metadata": {
        "colab": {
          "base_uri": "https://localhost:8080/"
        },
        "id": "97b2c04c",
        "outputId": "bacb2648-9722-4f88-bfd1-fcddf749cdcc"
      },
      "outputs": [
        {
          "output_type": "stream",
          "name": "stdout",
          "text": [
            "['the', 'quick', 'brown', 'fox', 'jumps', 'over', 'the', 'lazy', 'dog']\n"
          ]
        }
      ],
      "source": [
        "words = ['The', 'quick', 'brown', 'fox', 'jumps', 'over','the', 'lazy', 'dog']\n",
        "a = [word.lower() for word in words]\n",
        "print(a)"
      ]
    },
    {
      "cell_type": "markdown",
      "source": [
        "c)"
      ],
      "metadata": {
        "id": "_Y71WfhJ85kZ"
      },
      "id": "_Y71WfhJ85kZ"
    },
    {
      "cell_type": "code",
      "execution_count": 21,
      "id": "0ba769d2",
      "metadata": {
        "colab": {
          "base_uri": "https://localhost:8080/"
        },
        "id": "0ba769d2",
        "outputId": "394bcaec-e229-47b0-f8eb-2cd85b66b6b8"
      },
      "outputs": [
        {
          "output_type": "stream",
          "name": "stdout",
          "text": [
            "[3, 5, 5, 3, 5, 4, 3, 4, 3]\n"
          ]
        }
      ],
      "source": [
        "words = ['The', 'quick', 'brown', 'fox', 'jumps', 'over','the', 'lazy', 'dog']\n",
        "a = [len(word) for word in words]\n",
        "print(a)"
      ]
    },
    {
      "cell_type": "markdown",
      "source": [
        "d)"
      ],
      "metadata": {
        "id": "YHLIXL039K6Y"
      },
      "id": "YHLIXL039K6Y"
    },
    {
      "cell_type": "code",
      "execution_count": 22,
      "id": "0aa9e8eb",
      "metadata": {
        "colab": {
          "base_uri": "https://localhost:8080/"
        },
        "id": "0aa9e8eb",
        "outputId": "7e5cb6a5-e3d8-4b0e-c68f-6fb919aa7c51"
      },
      "outputs": [
        {
          "output_type": "stream",
          "name": "stdout",
          "text": [
            "[['THE', 'the', 3], ['QUICK', 'quick', 5], ['BROWN', 'brown', 5], ['FOX', 'fox', 3], ['JUMPS', 'jumps', 5], ['OVER', 'over', 4], ['THE', 'the', 3], ['LAZY', 'lazy', 4], ['DOG', 'dog', 3]]\n"
          ]
        }
      ],
      "source": [
        "words = ['The', 'quick', 'brown', 'fox', 'jumps', 'over','the', 'lazy', 'dog']\n",
        "a = [[word.upper(), word.lower(), len(word)] for word in words]\n",
        "print(a)"
      ]
    },
    {
      "cell_type": "markdown",
      "source": [
        "e)"
      ],
      "metadata": {
        "id": "SND658Zz9OHM"
      },
      "id": "SND658Zz9OHM"
    },
    {
      "cell_type": "code",
      "execution_count": 23,
      "id": "98fd1ed5",
      "metadata": {
        "colab": {
          "base_uri": "https://localhost:8080/"
        },
        "id": "98fd1ed5",
        "outputId": "b0f921af-ce93-44b7-eabb-5cae014529c0"
      },
      "outputs": [
        {
          "output_type": "stream",
          "name": "stdout",
          "text": [
            "['quick', 'brown', 'jumps', 'over', 'lazy']\n"
          ]
        }
      ],
      "source": [
        "words = ['The', 'quick', 'brown', 'fox', 'jumps', 'over','the', 'lazy', 'dog']\n",
        "a = [word for word in words if len(word) >= 4]\n",
        "print(a)"
      ]
    }
  ],
  "metadata": {
    "kernelspec": {
      "display_name": "Python 3 (ipykernel)",
      "language": "python",
      "name": "python3"
    },
    "language_info": {
      "codemirror_mode": {
        "name": "ipython",
        "version": 3
      },
      "file_extension": ".py",
      "mimetype": "text/x-python",
      "name": "python",
      "nbconvert_exporter": "python",
      "pygments_lexer": "ipython3",
      "version": "3.10.9"
    },
    "colab": {
      "provenance": []
    }
  },
  "nbformat": 4,
  "nbformat_minor": 5
}